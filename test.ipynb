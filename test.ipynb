{
 "cells": [
  {
   "cell_type": "code",
   "execution_count": 20,
   "metadata": {},
   "outputs": [],
   "source": [
    "import torch\n",
    "from model import Classifier\n",
    "from facialLandmarkDetector import FacialLandmarkDetection\n",
    "from torchvision import transforms"
   ]
  },
  {
   "cell_type": "code",
   "execution_count": 21,
   "metadata": {},
   "outputs": [
    {
     "data": {
      "text/plain": [
       "<All keys matched successfully>"
      ]
     },
     "execution_count": 21,
     "metadata": {},
     "output_type": "execute_result"
    }
   ],
   "source": [
    "model = Classifier()\n",
    "model.load_state_dict(torch.load(\"best_model.pth\"))"
   ]
  },
  {
   "cell_type": "code",
   "execution_count": 22,
   "metadata": {},
   "outputs": [],
   "source": [
    "label = {\n",
    "    0 : \"Heart\",\n",
    "    1 : \"Oblong\",\n",
    "    2 : \"Oval\",\n",
    "    3 : \"Round\",\n",
    "    4 : \"Square\"\n",
    "}"
   ]
  },
  {
   "cell_type": "code",
   "execution_count": 23,
   "metadata": {},
   "outputs": [],
   "source": [
    "images = [\"gagan.png\",\"Vaibhav.png\", \"1.jpeg\", \"2.jpeg\", \"sindhuja.jpeg\", \"3.jpeg\", \"4.jpeg\", \"5.jpg\", \"6.jpeg\", \"7.jpg\", \"8.jpg\", \"9.jpg\"]\n",
    "predic = []"
   ]
  },
  {
   "cell_type": "code",
   "execution_count": 24,
   "metadata": {},
   "outputs": [
    {
     "name": "stderr",
     "output_type": "stream",
     "text": [
      "I0000 00:00:1712529185.498684   12119 gl_context_egl.cc:85] Successfully initialized EGL. Major : 1 Minor: 5\n",
      "I0000 00:00:1712529185.499640   14199 gl_context.cc:357] GL version: 3.2 (OpenGL ES 3.2 Mesa 23.2.1-1ubuntu3.1~22.04.2), renderer: RENOIR (renoir, LLVM 15.0.7, DRM 3.54, 6.5.0-26-generic)\n",
      "W0000 00:00:1712529185.499995   12119 face_landmarker_graph.cc:174] Sets FaceBlendshapesGraph acceleration to xnnpack by default.\n",
      "/home/skycoder/.local/lib/python3.10/site-packages/torch/nn/modules/module.py:1511: UserWarning: Implicit dimension choice for softmax has been deprecated. Change the call to include dim=X as an argument.\n",
      "  return self._call_impl(*args, **kwargs)\n",
      "I0000 00:00:1712529185.558720   12119 gl_context_egl.cc:85] Successfully initialized EGL. Major : 1 Minor: 5\n",
      "I0000 00:00:1712529185.559761   14214 gl_context.cc:357] GL version: 3.2 (OpenGL ES 3.2 Mesa 23.2.1-1ubuntu3.1~22.04.2), renderer: RENOIR (renoir, LLVM 15.0.7, DRM 3.54, 6.5.0-26-generic)\n",
      "W0000 00:00:1712529185.560061   12119 face_landmarker_graph.cc:174] Sets FaceBlendshapesGraph acceleration to xnnpack by default.\n",
      "I0000 00:00:1712529185.605027   12119 gl_context_egl.cc:85] Successfully initialized EGL. Major : 1 Minor: 5\n",
      "I0000 00:00:1712529185.606042   14230 gl_context.cc:357] GL version: 3.2 (OpenGL ES 3.2 Mesa 23.2.1-1ubuntu3.1~22.04.2), renderer: RENOIR (renoir, LLVM 15.0.7, DRM 3.54, 6.5.0-26-generic)\n",
      "W0000 00:00:1712529185.606394   12119 face_landmarker_graph.cc:174] Sets FaceBlendshapesGraph acceleration to xnnpack by default.\n",
      "I0000 00:00:1712529185.651522   12119 gl_context_egl.cc:85] Successfully initialized EGL. Major : 1 Minor: 5\n",
      "I0000 00:00:1712529185.652296   14245 gl_context.cc:357] GL version: 3.2 (OpenGL ES 3.2 Mesa 23.2.1-1ubuntu3.1~22.04.2), renderer: RENOIR (renoir, LLVM 15.0.7, DRM 3.54, 6.5.0-26-generic)\n",
      "W0000 00:00:1712529185.652547   12119 face_landmarker_graph.cc:174] Sets FaceBlendshapesGraph acceleration to xnnpack by default.\n",
      "I0000 00:00:1712529185.703092   12119 gl_context_egl.cc:85] Successfully initialized EGL. Major : 1 Minor: 5\n"
     ]
    },
    {
     "name": "stdout",
     "output_type": "stream",
     "text": [
      "torch.Size([1, 956])\n",
      "torch.Size([1, 956])\n",
      "torch.Size([1, 956])\n",
      "torch.Size([1, 956])\n"
     ]
    },
    {
     "name": "stderr",
     "output_type": "stream",
     "text": [
      "I0000 00:00:1712529185.703927   14260 gl_context.cc:357] GL version: 3.2 (OpenGL ES 3.2 Mesa 23.2.1-1ubuntu3.1~22.04.2), renderer: RENOIR (renoir, LLVM 15.0.7, DRM 3.54, 6.5.0-26-generic)\n",
      "W0000 00:00:1712529185.704175   12119 face_landmarker_graph.cc:174] Sets FaceBlendshapesGraph acceleration to xnnpack by default.\n",
      "I0000 00:00:1712529185.765228   12119 gl_context_egl.cc:85] Successfully initialized EGL. Major : 1 Minor: 5\n",
      "I0000 00:00:1712529185.766271   14275 gl_context.cc:357] GL version: 3.2 (OpenGL ES 3.2 Mesa 23.2.1-1ubuntu3.1~22.04.2), renderer: RENOIR (renoir, LLVM 15.0.7, DRM 3.54, 6.5.0-26-generic)\n",
      "W0000 00:00:1712529185.766580   12119 face_landmarker_graph.cc:174] Sets FaceBlendshapesGraph acceleration to xnnpack by default.\n",
      "I0000 00:00:1712529185.823652   12119 gl_context_egl.cc:85] Successfully initialized EGL. Major : 1 Minor: 5\n",
      "I0000 00:00:1712529185.824520   14290 gl_context.cc:357] GL version: 3.2 (OpenGL ES 3.2 Mesa 23.2.1-1ubuntu3.1~22.04.2), renderer: RENOIR (renoir, LLVM 15.0.7, DRM 3.54, 6.5.0-26-generic)\n",
      "W0000 00:00:1712529185.824781   12119 face_landmarker_graph.cc:174] Sets FaceBlendshapesGraph acceleration to xnnpack by default.\n",
      "I0000 00:00:1712529185.858608   12119 gl_context_egl.cc:85] Successfully initialized EGL. Major : 1 Minor: 5\n",
      "I0000 00:00:1712529185.859392   14305 gl_context.cc:357] GL version: 3.2 (OpenGL ES 3.2 Mesa 23.2.1-1ubuntu3.1~22.04.2), renderer: RENOIR (renoir, LLVM 15.0.7, DRM 3.54, 6.5.0-26-generic)\n",
      "W0000 00:00:1712529185.859635   12119 face_landmarker_graph.cc:174] Sets FaceBlendshapesGraph acceleration to xnnpack by default.\n",
      "I0000 00:00:1712529185.893603   12119 gl_context_egl.cc:85] Successfully initialized EGL. Major : 1 Minor: 5\n",
      "I0000 00:00:1712529185.894297   14320 gl_context.cc:357] GL version: 3.2 (OpenGL ES 3.2 Mesa 23.2.1-1ubuntu3.1~22.04.2), renderer: RENOIR (renoir, LLVM 15.0.7, DRM 3.54, 6.5.0-26-generic)\n",
      "W0000 00:00:1712529185.894531   12119 face_landmarker_graph.cc:174] Sets FaceBlendshapesGraph acceleration to xnnpack by default.\n"
     ]
    },
    {
     "name": "stdout",
     "output_type": "stream",
     "text": [
      "torch.Size([1, 956])\n",
      "torch.Size([1, 956])\n",
      "torch.Size([1, 956])\n",
      "torch.Size([1, 956])\n",
      "torch.Size([1, 956])\n",
      "torch.Size([1, 956])\n",
      "torch.Size([1, 956])\n",
      "torch.Size([1, 956])\n"
     ]
    },
    {
     "name": "stderr",
     "output_type": "stream",
     "text": [
      "I0000 00:00:1712529185.926413   12119 gl_context_egl.cc:85] Successfully initialized EGL. Major : 1 Minor: 5\n",
      "I0000 00:00:1712529185.927117   14335 gl_context.cc:357] GL version: 3.2 (OpenGL ES 3.2 Mesa 23.2.1-1ubuntu3.1~22.04.2), renderer: RENOIR (renoir, LLVM 15.0.7, DRM 3.54, 6.5.0-26-generic)\n",
      "W0000 00:00:1712529185.927347   12119 face_landmarker_graph.cc:174] Sets FaceBlendshapesGraph acceleration to xnnpack by default.\n",
      "I0000 00:00:1712529185.963971   12119 gl_context_egl.cc:85] Successfully initialized EGL. Major : 1 Minor: 5\n",
      "I0000 00:00:1712529185.964947   14350 gl_context.cc:357] GL version: 3.2 (OpenGL ES 3.2 Mesa 23.2.1-1ubuntu3.1~22.04.2), renderer: RENOIR (renoir, LLVM 15.0.7, DRM 3.54, 6.5.0-26-generic)\n",
      "W0000 00:00:1712529185.965267   12119 face_landmarker_graph.cc:174] Sets FaceBlendshapesGraph acceleration to xnnpack by default.\n",
      "I0000 00:00:1712529186.000819   12119 gl_context_egl.cc:85] Successfully initialized EGL. Major : 1 Minor: 5\n",
      "I0000 00:00:1712529186.001548   14365 gl_context.cc:357] GL version: 3.2 (OpenGL ES 3.2 Mesa 23.2.1-1ubuntu3.1~22.04.2), renderer: RENOIR (renoir, LLVM 15.0.7, DRM 3.54, 6.5.0-26-generic)\n",
      "W0000 00:00:1712529186.001774   12119 face_landmarker_graph.cc:174] Sets FaceBlendshapesGraph acceleration to xnnpack by default.\n"
     ]
    }
   ],
   "source": [
    "for i in images:\n",
    "    Detector = FacialLandmarkDetection(i)\n",
    "    image = Detector.load().reshape((1,956))\n",
    "    image = torch.Tensor(image)\n",
    "    print(image.shape)\n",
    "    model.eval()\n",
    "\n",
    "    # Perform inference\n",
    "    with torch.no_grad():\n",
    "        pred = model(image)\n",
    "    pred = pred.numpy()[0]\n",
    "    predic.append(pred)"
   ]
  },
  {
   "cell_type": "code",
   "execution_count": 25,
   "metadata": {},
   "outputs": [
    {
     "name": "stdout",
     "output_type": "stream",
     "text": [
      "gagan.png\n",
      "Heart = 0.914463959634304%\n",
      "Oblong = 0.0001268911319129984%\n",
      "Oval = 0.07523627718910575%\n",
      "Round = 83.1663966178894%\n",
      "Square = 15.843777358531952%\n",
      "Vaibhav.png\n",
      "Heart = 3.436062101513926e-06%\n",
      "Oblong = 9.567894786596298%\n",
      "Oval = 90.36133885383606%\n",
      "Round = 0.00038303724068100564%\n",
      "Square = 0.07037431350909173%\n",
      "1.jpeg\n",
      "Heart = 0.0007907686267571989%\n",
      "Oblong = 99.99023675918579%\n",
      "Oval = 0.00895242192200385%\n",
      "Round = 1.1382702558293545e-07%\n",
      "Square = 2.4494008243891585e-05%\n",
      "2.jpeg\n",
      "Heart = 0.7090379018336535%\n",
      "Oblong = 96.7417299747467%\n",
      "Oval = 2.5492265820503235%\n",
      "Round = 1.2102554514115127e-06%\n",
      "Square = 3.428076045253192e-07%\n",
      "sindhuja.jpeg\n",
      "Heart = 0.0006912838216521777%\n",
      "Oblong = 3.7139898267923854e-05%\n",
      "Oval = 99.99059438705444%\n",
      "Round = 0.002573685378592927%\n",
      "Square = 0.006101224425947294%\n",
      "3.jpeg\n",
      "Heart = 3.467511078270036e-06%\n",
      "Oblong = 0.001997623621718958%\n",
      "Oval = 99.99794960021973%\n",
      "Round = 3.577607099458646e-07%\n",
      "Square = 5.1979424142700736e-05%\n",
      "4.jpeg\n",
      "Heart = 2.2827129811048508%\n",
      "Oblong = 3.6288823932409286%\n",
      "Oval = 92.63976812362671%\n",
      "Round = 4.9204260221813456e-05%\n",
      "Square = 1.4485920779407024%\n",
      "5.jpg\n",
      "Heart = 0.00035065104384557344%\n",
      "Oblong = 1.005989069824409e-07%\n",
      "Oval = 84.68230366706848%\n",
      "Round = 1.2859334237873554%\n",
      "Square = 14.031408727169037%\n",
      "6.jpeg\n",
      "Heart = 1.902454721536273e-08%\n",
      "Oblong = 9.910528127321516e-10%\n",
      "Oval = 0.08910936885513365%\n",
      "Round = 0.04186297592241317%\n",
      "Square = 99.86903071403503%\n",
      "7.jpg\n",
      "Heart = 0.10735661489889026%\n",
      "Oblong = 0.71376021951437%\n",
      "Oval = 99.07888770103455%\n",
      "Round = 0.002161782504117582%\n",
      "Square = 0.097827916033566%\n",
      "8.jpg\n",
      "Heart = 1.285254214167253e-06%\n",
      "Oblong = 4.405274012242444e-06%\n",
      "Oval = 56.762927770614624%\n",
      "Round = 16.336268186569214%\n",
      "Square = 26.900798082351685%\n",
      "9.jpg\n",
      "Heart = 2.281146294080827e-06%\n",
      "Oblong = 83.03741812705994%\n",
      "Oval = 0.08067699964158237%\n",
      "Round = 0.0014858171198284253%\n",
      "Square = 16.88041388988495%\n"
     ]
    }
   ],
   "source": [
    "for i in range(len(images)):\n",
    "    print(images[i])\n",
    "    pred = predic[i]\n",
    "    for i in range(len(pred)):\n",
    "        print(f\"{label[i]} = {pred[i]*100}%\")"
   ]
  },
  {
   "cell_type": "code",
   "execution_count": null,
   "metadata": {},
   "outputs": [],
   "source": []
  }
 ],
 "metadata": {
  "kernelspec": {
   "display_name": "Python 3",
   "language": "python",
   "name": "python3"
  },
  "language_info": {
   "codemirror_mode": {
    "name": "ipython",
    "version": 3
   },
   "file_extension": ".py",
   "mimetype": "text/x-python",
   "name": "python",
   "nbconvert_exporter": "python",
   "pygments_lexer": "ipython3",
   "version": "3.10.12"
  },
  "orig_nbformat": 4
 },
 "nbformat": 4,
 "nbformat_minor": 2
}
